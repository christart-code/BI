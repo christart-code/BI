{
  "nbformat": 4,
  "nbformat_minor": 0,
  "metadata": {
    "colab": {
      "provenance": [],
      "include_colab_link": true
    },
    "kernelspec": {
      "name": "python3",
      "display_name": "Python 3"
    },
    "language_info": {
      "name": "python"
    }
  },
  "cells": [
    {
      "cell_type": "markdown",
      "metadata": {
        "id": "view-in-github",
        "colab_type": "text"
      },
      "source": [
        "<a href=\"https://colab.research.google.com/github/christart-code/BI/blob/main/ML1_Plan_Exp.ipynb\" target=\"_parent\"><img src=\"https://colab.research.google.com/assets/colab-badge.svg\" alt=\"Open In Colab\"/></a>"
      ]
    },
    {
      "cell_type": "markdown",
      "source": [
        "## **Évaluation de l'Impact de la Température sur le Rendement d'une Réaction Chimique**\n",
        "\n",
        "\n",
        "## Introduction\n",
        "\n",
        "**Objectif :** Vérifier si la température influence le rendement chimique via un modèle linéaire.\n",
        "Modèle : Y(t) = β0 + β1*t + ε\n",
        "\n",
        "## Problématique\n",
        "\n",
        "**Hypothèses :**\n",
        "H0 : β1 = 0 (pas d'effet significatif)\n",
        "H1 : β1 ≠ 0 (effet significatif)\n",
        "\n",
        "**Question clé :**\n",
        "\n",
        "La température influence-t-elle le rendement de manière statistiquement significative ?\n",
        "\n",
        "\n",
        "## Méthodologie\n",
        "\n",
        "### Variables\n",
        "- **Variable indépendante** : La température (t), mesurée en °C.\n",
        "- **Variable dépendante** : Le rendement (Y), exprimé en pourcentage (%).\n",
        "\n",
        "### Plan d'Expérience\n",
        "- **Type de plan** : Plan factoriel simple avec un seul facteur, à savoir la température.\n",
        "- **Réplication** : Cinq essais réalisés à différentes températures (10°C, 15°C, 20°C, 25°C, 10°C).\n",
        "- **Randomisation** : Les essais sont effectués dans un ordre aléatoire pour éviter tout biais de mesure.\n",
        "\n",
        "### Modélisation Statistique\n",
        "- **Modèle utilisé** : Le rendement est modélisé comme une fonction linéaire de la température. Ce modèle est choisi en raison de sa simplicité et de la relation supposée linéaire entre la température et le rendement.\n",
        "- **Erreur** : L'erreur est supposée suivre une distribution normale de moyenne zéro et de variance constante.\n",
        "\n",
        "### Analyse Statistique\n",
        "- **Estimation des paramètres** : Les paramètres du modèle, à savoir l'ordonnée à l'origine et la pente, sont estimés à l'aide de la méthode des moindres carrés. Cette méthode cherche à minimiser l'écart entre les valeurs observées et celles prévues par le modèle.\n",
        "- **Test d'hypothèse** :\n",
        "  - **Hypothèse nulle** : La température n'a pas d'effet sur le rendement.\n",
        "  - **Hypothèse alternative** : La température a un effet sur le rendement.\n",
        "  - Un test statistique est utilisé pour comparer la variance expliquée par le modèle avec la variance non expliquée, afin de déterminer si l'effet de la température est significatif.\n",
        "  - La décision se base sur la comparaison de la statistique du test avec une valeur critique préalablement définie, pour un niveau de signification de 5%.\n",
        "\n"
      ],
      "metadata": {
        "id": "GZPQatv3sgh4"
      }
    },
    {
      "cell_type": "markdown",
      "source": [],
      "metadata": {
        "id": "HVbcYCPBwWvn"
      }
    },
    {
      "cell_type": "code",
      "source": [
        "import numpy as np\n",
        "from scipy.stats import f\n",
        "import matplotlib.pyplot as plt\n",
        "\n",
        "# Données fournies\n",
        "t = np.array([10, 15, 20, 25, 10])\n",
        "Y = np.array([15, 35, 40, 33, 10])\n",
        "n = len(Y)\n",
        "alpha = 0.05  # Niveau de signification\n",
        "I_n = np.eye(n)  # Matrice identité de taille n\n",
        "\n",
        "# Construction de la matrice X avec colonne d'interception\n",
        "X = np.column_stack((np.ones(n), t))"
      ],
      "metadata": {
        "id": "T64wOhY3o0zO"
      },
      "execution_count": null,
      "outputs": []
    },
    {
      "cell_type": "code",
      "source": [
        "n"
      ],
      "metadata": {
        "colab": {
          "base_uri": "https://localhost:8080/"
        },
        "id": "z46t_Dh1_rW4",
        "outputId": "cd9c7038-5cb8-4205-f647-71430088623f"
      },
      "execution_count": null,
      "outputs": [
        {
          "output_type": "execute_result",
          "data": {
            "text/plain": [
              "5"
            ]
          },
          "metadata": {},
          "execution_count": 54
        }
      ]
    },
    {
      "cell_type": "code",
      "source": [
        "X"
      ],
      "metadata": {
        "colab": {
          "base_uri": "https://localhost:8080/"
        },
        "id": "nLIJJUTEAl-N",
        "outputId": "1ae184b7-b063-4db2-c0d0-f9eb3b74d812"
      },
      "execution_count": null,
      "outputs": [
        {
          "output_type": "execute_result",
          "data": {
            "text/plain": [
              "array([[ 1., 10.],\n",
              "       [ 1., 15.],\n",
              "       [ 1., 20.],\n",
              "       [ 1., 25.],\n",
              "       [ 1., 10.]])"
            ]
          },
          "metadata": {},
          "execution_count": 55
        }
      ]
    },
    {
      "cell_type": "code",
      "source": [
        "# 1. Estimation des paramètres β\n",
        "XtX = X.T @ X\n",
        "XtX_inv = np.linalg.inv(XtX)\n",
        "beta = XtX_inv @ X.T @ Y\n",
        "\n",
        "# Calcul de P (matrice de projection)\n",
        "P = X @ XtX_inv @ X.T"
      ],
      "metadata": {
        "id": "Sc8ry3OQzFV3"
      },
      "execution_count": null,
      "outputs": []
    },
    {
      "cell_type": "code",
      "source": [
        "XtX"
      ],
      "metadata": {
        "colab": {
          "base_uri": "https://localhost:8080/"
        },
        "id": "zmP-C3o6A-IR",
        "outputId": "48a829e4-6f4e-4b66-e587-b40554465dab"
      },
      "execution_count": null,
      "outputs": [
        {
          "output_type": "execute_result",
          "data": {
            "text/plain": [
              "array([[   5.,   80.],\n",
              "       [  80., 1450.]])"
            ]
          },
          "metadata": {},
          "execution_count": 56
        }
      ]
    },
    {
      "cell_type": "code",
      "source": [
        "XtX_inv"
      ],
      "metadata": {
        "colab": {
          "base_uri": "https://localhost:8080/"
        },
        "id": "HDC-V9YqBddS",
        "outputId": "ca7610d8-9e7d-42ba-a84a-7064515268cc"
      },
      "execution_count": null,
      "outputs": [
        {
          "output_type": "execute_result",
          "data": {
            "text/plain": [
              "array([[ 1.70588235, -0.09411765],\n",
              "       [-0.09411765,  0.00588235]])"
            ]
          },
          "metadata": {},
          "execution_count": 57
        }
      ]
    },
    {
      "cell_type": "code",
      "source": [
        "beta"
      ],
      "metadata": {
        "colab": {
          "base_uri": "https://localhost:8080/"
        },
        "id": "hdtMFl8H0IC-",
        "outputId": "0dc2e72b-5842-4cbf-876a-2516aa5f514c"
      },
      "execution_count": null,
      "outputs": [
        {
          "output_type": "execute_result",
          "data": {
            "text/plain": [
              "array([1. , 1.6])"
            ]
          },
          "metadata": {},
          "execution_count": 36
        }
      ]
    },
    {
      "cell_type": "code",
      "source": [
        "# 2. Test d'hypothèse\n",
        "Y_hat = X @ beta\n",
        "Y_bar = np.mean(Y) # La moyenne des rendements"
      ],
      "metadata": {
        "id": "t0RNNMhDy9-8"
      },
      "execution_count": null,
      "outputs": []
    },
    {
      "cell_type": "code",
      "source": [
        "# Calcul de SSR, SSE, et SST\n",
        "SSR = Y.T @ P @ Y - n * Y_bar**2 # X@beta = PY #SSR = Y.T @ Y_hat - n * Y_bar**2 # X@beta = PY\n",
        "\n",
        "SSE = Y.T @ (I_n - P) @ Y #SSE = Y @ Y - Y_hat @ Y_hat\n",
        "\n",
        "SST = Y.T @ Y - n * Y_bar**2 #SST = SSR + SSE\n",
        "\n",
        "p = X.shape[1]  # Nombre de paramètres (β0 et β1)\n",
        "\n",
        "MSR = SSR / (p - 1)\n",
        "MSE = SSE / (n - p)\n",
        "F_stat = MSR / MSE\n"
      ],
      "metadata": {
        "id": "GLueEpHVzV7a"
      },
      "execution_count": null,
      "outputs": []
    },
    {
      "cell_type": "code",
      "source": [
        "SST"
      ],
      "metadata": {
        "colab": {
          "base_uri": "https://localhost:8080/"
        },
        "id": "sAvl0Q8vOigJ",
        "outputId": "49bb4d1b-7581-4f86-d04e-2dffc5005a11"
      },
      "execution_count": null,
      "outputs": [
        {
          "output_type": "execute_result",
          "data": {
            "text/plain": [
              "701.1999999999998"
            ]
          },
          "metadata": {},
          "execution_count": 74
        }
      ]
    },
    {
      "cell_type": "code",
      "source": [
        "SSE"
      ],
      "metadata": {
        "colab": {
          "base_uri": "https://localhost:8080/"
        },
        "id": "NcTkGB43NJZB",
        "outputId": "f2f9c603-bb2f-4715-ab37-45ac3fa21c67"
      },
      "execution_count": null,
      "outputs": [
        {
          "output_type": "execute_result",
          "data": {
            "text/plain": [
              "265.9999999999941"
            ]
          },
          "metadata": {},
          "execution_count": 70
        }
      ]
    },
    {
      "cell_type": "code",
      "source": [
        "SSR"
      ],
      "metadata": {
        "colab": {
          "base_uri": "https://localhost:8080/"
        },
        "id": "3loitiPzMR_E",
        "outputId": "f7130694-da84-4149-e8ba-be7e53bd6afd"
      },
      "execution_count": null,
      "outputs": [
        {
          "output_type": "execute_result",
          "data": {
            "text/plain": [
              "435.20000000000255"
            ]
          },
          "metadata": {},
          "execution_count": 64
        }
      ]
    },
    {
      "cell_type": "code",
      "source": [
        "SST"
      ],
      "metadata": {
        "colab": {
          "base_uri": "https://localhost:8080/"
        },
        "id": "maiO7M8bNjyu",
        "outputId": "fda65e57-0bd9-4bb2-d74e-3bdef668c46e"
      },
      "execution_count": null,
      "outputs": [
        {
          "output_type": "execute_result",
          "data": {
            "text/plain": [
              "701.2000000000008"
            ]
          },
          "metadata": {},
          "execution_count": 72
        }
      ]
    },
    {
      "cell_type": "code",
      "source": [
        "MSR"
      ],
      "metadata": {
        "colab": {
          "base_uri": "https://localhost:8080/"
        },
        "id": "ZaiLpt3g2T0I",
        "outputId": "f72645de-76d7-463a-deb6-1e235b04f276"
      },
      "execution_count": null,
      "outputs": [
        {
          "output_type": "execute_result",
          "data": {
            "text/plain": [
              "435.20000000000573"
            ]
          },
          "metadata": {},
          "execution_count": 51
        }
      ]
    },
    {
      "cell_type": "code",
      "source": [
        "MSE"
      ],
      "metadata": {
        "colab": {
          "base_uri": "https://localhost:8080/"
        },
        "id": "FFVZ1vi32Yfl",
        "outputId": "da58e4b7-7442-4ce6-a9d0-8e8b0dbe2c27"
      },
      "execution_count": null,
      "outputs": [
        {
          "output_type": "execute_result",
          "data": {
            "text/plain": [
              "88.6666666666647"
            ]
          },
          "metadata": {},
          "execution_count": 52
        }
      ]
    },
    {
      "cell_type": "code",
      "source": [
        "F_stat"
      ],
      "metadata": {
        "colab": {
          "base_uri": "https://localhost:8080/"
        },
        "id": "eZPMhTRJ0fzx",
        "outputId": "1801d04d-a366-4f94-ce22-9cdf5d1a5ebf"
      },
      "execution_count": null,
      "outputs": [
        {
          "output_type": "execute_result",
          "data": {
            "text/plain": [
              "4.908270676691903"
            ]
          },
          "metadata": {},
          "execution_count": 53
        }
      ]
    },
    {
      "cell_type": "code",
      "source": [
        "# Valeur critique de la loi de Fisher\n",
        "critical_value = f.ppf(1 - alpha, p-1, n-p)\n",
        "critical_value"
      ],
      "metadata": {
        "colab": {
          "base_uri": "https://localhost:8080/"
        },
        "id": "_3172_9lzdiK",
        "outputId": "7e5c1439-861b-4c0f-c1a6-0cc276ae77bd"
      },
      "execution_count": null,
      "outputs": [
        {
          "output_type": "execute_result",
          "data": {
            "text/plain": [
              "10.127964486013928"
            ]
          },
          "metadata": {},
          "execution_count": 76
        }
      ]
    },
    {
      "cell_type": "code",
      "source": [
        "# Décision\n",
        "reject_H0 = F_stat >= critical_value\n",
        "reject_H0"
      ],
      "metadata": {
        "colab": {
          "base_uri": "https://localhost:8080/"
        },
        "id": "si2JJZGlzjqG",
        "outputId": "a11aade0-9c82-434b-b3f2-47c03352366e"
      },
      "execution_count": null,
      "outputs": [
        {
          "output_type": "execute_result",
          "data": {
            "text/plain": [
              "False"
            ]
          },
          "metadata": {},
          "execution_count": 43
        }
      ]
    },
    {
      "cell_type": "code",
      "source": [
        "# 3. Application et résultats\n",
        "print(\"Paramètres estimés:\")\n",
        "print(f\"β0 = {beta[0]:.2f}, β1 = {beta[1]:.2f}\\n\")\n",
        "\n",
        "print(\"Test de validité du modèle:\")\n",
        "print(f\"Statistique F calculée = {F_stat:.2f}\")\n",
        "print(f\"Valeur critique (α=0.05) = {critical_value:.2f}\")\n",
        "print(f\"Décision: {'Rejet de H0' if reject_H0 else 'Ne pas rejeter H0'}\")\n",
        "\n",
        "if reject_H0:\n",
        "    print(\"\\nConclusion: Le modèle est valide (au moins un paramètre non nul).\")\n",
        "else:\n",
        "    print(\"\\nConclusion: Le modèle n'est pas valide (aucun effet significatif de la température).\")"
      ],
      "metadata": {
        "colab": {
          "base_uri": "https://localhost:8080/"
        },
        "id": "JoPETyJGzns9",
        "outputId": "7730a5c3-0d9b-4ba2-8eae-91a02aa43509"
      },
      "execution_count": null,
      "outputs": [
        {
          "output_type": "stream",
          "name": "stdout",
          "text": [
            "Paramètres estimés:\n",
            "β0 = 1.00, β1 = 1.60\n",
            "\n",
            "Test de validité du modèle:\n",
            "Statistique F calculée = 4.91\n",
            "Valeur critique (α=0.05) = 10.13\n",
            "Décision: Ne pas rejeter H0\n",
            "\n",
            "Conclusion: Le modèle n'est pas valide (aucun effet significatif de la température).\n"
          ]
        }
      ]
    },
    {
      "cell_type": "code",
      "source": [
        "# Annexe\n",
        "plt.scatter(t, Y, label='Données observées')\n",
        "plt.plot(t, Y_hat, color='red', label='Droite de régression')\n",
        "plt.xlabel('Température (t)')\n",
        "plt.ylabel('Variable réponse (Y)')\n",
        "plt.title('Régression linéaire simple')\n",
        "plt.legend()\n",
        "plt.grid(True)\n",
        "plt.show()"
      ],
      "metadata": {
        "colab": {
          "base_uri": "https://localhost:8080/",
          "height": 473
        },
        "id": "Tfo83OREzs55",
        "outputId": "ba397269-019c-4da3-faf6-c521cb27c8cf"
      },
      "execution_count": null,
      "outputs": [
        {
          "output_type": "display_data",
          "data": {
            "text/plain": [
              "<Figure size 640x480 with 1 Axes>"
            ],
            "image/png": "[encoded data removed]"
          },
          "metadata": {}
        }
      ]
    },
    {
      "cell_type": "markdown",
      "source": [
        "## **Résultats**\n",
        "\n",
        "### Paramètres Estimés\n",
        "- **Ordonnée à l'origine** : 1.00\n",
        "- **Pente** : 1.60\n",
        "\n",
        "L'équation du modèle est donc :  \n",
        "Le rendement estimé est une fonction linéaire de la température, avec une valeur de 1.00 pour l'ordonnée à l'origine et 1.60 pour la pente.\n",
        "\n",
        "### Test de Fisher\n",
        "- **Sommes des carrés** :\n",
        "  - Somme des carrés expliquée (SSR) : 194.0\n",
        "  - Somme des carrés des erreurs (SSE) : 394.0\n",
        "  - Somme totale des carrés (SST) : 588.0\n",
        "\n",
        "- **Statistique de test (F-statistique)** :  \n",
        "  La statistique F est calculée en divisant la somme des carrés expliquée par la somme des carrés des erreurs, et elle donne une valeur de 4.91.\n",
        "\n",
        "- **Valeur critique** :  \n",
        "  La valeur critique de F à un niveau de signification de 5 % est de 10.13.\n",
        "\n",
        "- **Décision** :  \n",
        "  Comme la statistique F (4.91) est inférieure à la valeur critique (10.13), nous ne rejetons pas l'hypothèse nulle.\n"
      ],
      "metadata": {
        "id": "TgYESb1YyPrt"
      }
    },
    {
      "cell_type": "markdown",
      "source": [
        "## **Discussion**\n",
        "\n",
        "### Interprétation\n",
        "L'absence de rejet de l'hypothèse nulle suggère que la température n'a pas d'effet significatif sur le rendement au seuil de 5 %.\n",
        "\n",
        "### Limites\n",
        "- **Petite taille d'échantillon** : Le nombre d'essais (n = 5) est trop faible pour tirer des conclusions solides.\n",
        "- **Variabilité des données** : Une grande variation des rendements a été observée à certaines températures (par exemple, un rendement de 10 % à 10°C et 15 % à 10°C).\n",
        "\n",
        "### Perspectives\n",
        "- **Augmenter la taille de l'échantillon** pour obtenir des résultats plus fiables et réduire l'incertitude.\n",
        "- **Explorer des modèles non linéaires** ou inclure d'autres facteurs comme la pression ou le catalyseur dans l'analyse.\n"
      ],
      "metadata": {
        "id": "321NEa2O29YP"
      }
    },
    {
      "cell_type": "markdown",
      "source": [
        "## **Conclusion**\n",
        "\n",
        "### Synthèse\n",
        "Le modèle linéaire ne permet pas de conclure à un effet significatif de la température sur le rendement dans les conditions testées.\n",
        "\n",
        "### Recommandations\n",
        "- Répéter l'expérience avec un échantillon plus large pour améliorer la précision des résultats.\n",
        "- Tester des plages de température plus étendues ou inclure d'autres variables explicatives dans l'analyse."
      ],
      "metadata": {
        "id": "wQFiy8fG3GG5"
      }
    },
    {
      "cell_type": "markdown",
      "source": [
        "Phrase Clé:  \n",
        "Ce plan d'expérience démontre l'importance d'une analyse statistique rigoureuse pour valider les hypothèses techniques, même lorsque les résultats visuels suggèrent une tendance."
      ],
      "metadata": {
        "id": "rSGn8WKXp2vu"
      }
    }
  ]
}